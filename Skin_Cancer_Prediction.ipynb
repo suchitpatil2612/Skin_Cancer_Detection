{
  "nbformat": 4,
  "nbformat_minor": 0,
  "metadata": {
    "colab": {
      "name": "Skin_Cancer_Prediction.ipynb",
      "provenance": [],
      "collapsed_sections": []
    },
    "kernelspec": {
      "name": "python3",
      "display_name": "Python 3"
    },
    "language_info": {
      "name": "python"
    },
    "accelerator": "GPU"
  },
  "cells": [
    {
      "cell_type": "code",
      "metadata": {
        "id": "ukV6rXG7iVJp"
      },
      "source": [
        "import os\n",
        "import PIL\n",
        "import pathlib\n",
        "import pandas as pd\n",
        "import numpy as np\n",
        "import matplotlib.image as mpimg\n",
        "import matplotlib.pyplot as plt\n",
        "\n",
        "import tensorflow as tf\n",
        "from tensorflow import keras\n",
        "from tensorflow.keras import preprocessing\n",
        "from tensorflow.keras import layers\n",
        "from tensorflow.keras.models import Sequential\n",
        "from keras.layers import Dense, Dropout, Flatten, Conv2D, MaxPool2D\n",
        "from tensorflow.keras.optimizers import RMSprop"
      ],
      "execution_count": null,
      "outputs": []
    },
    {
      "cell_type": "code",
      "metadata": {
        "id": "mngHxeA7iiUX"
      },
      "source": [
        "''' train and test path '''\n",
        "train_path = pathlib.Path(\"/content/drive/MyDrive/Deep Learning Projects 43 - Skin Cancer Recognizer using DL/Data/Train\")\n",
        "test_path = pathlib.Path('/content/drive/MyDrive/Deep Learning Projects 43 - Skin Cancer Recognizer using DL/Data/Test')"
      ],
      "execution_count": null,
      "outputs": []
    },
    {
      "cell_type": "code",
      "metadata": {
        "colab": {
          "base_uri": "https://localhost:8080/"
        },
        "id": "WeCh9TMLnNzx",
        "outputId": "faa4cefb-8161-40e3-b505-3cadfa902597"
      },
      "source": [
        "''' length of train data '''\n",
        "train_image_len = len(list(train_path.glob('*/*.jpg')))\n",
        "print(train_image_len)\n",
        "\n",
        "''' length of test data '''\n",
        "test_image_len = len(list(test_path.glob('*/*.jpg')))\n",
        "print(test_image_len)"
      ],
      "execution_count": null,
      "outputs": [
        {
          "output_type": "stream",
          "name": "stdout",
          "text": [
            "1841\n",
            "106\n"
          ]
        }
      ]
    },
    {
      "cell_type": "code",
      "metadata": {
        "id": "XovZ2JnMpGFL"
      },
      "source": [
        "batch_size = 32\n",
        "image_w = 100\n",
        "image_h = 100"
      ],
      "execution_count": null,
      "outputs": []
    },
    {
      "cell_type": "code",
      "metadata": {
        "colab": {
          "base_uri": "https://localhost:8080/"
        },
        "id": "ygu755_xn3X1",
        "outputId": "ed77cab1-ccf6-4a6e-9a78-52f04e9014de"
      },
      "source": [
        "''' data augmentation '''\n",
        "''' using 80-20 split of data, 80% for training and 20% for validation '''\n",
        "train_ds = tf.keras.preprocessing.image_dataset_from_directory(\n",
        "    train_path,\n",
        "    seed=123,\n",
        "    validation_split= 0.2,\n",
        "    subset= 'training',\n",
        "    image_size=(image_h, image_w),\n",
        "    batch_size = batch_size)"
      ],
      "execution_count": null,
      "outputs": [
        {
          "output_type": "stream",
          "name": "stdout",
          "text": [
            "Found 1841 files belonging to 9 classes.\n",
            "Using 1473 files for training.\n"
          ]
        }
      ]
    },
    {
      "cell_type": "code",
      "metadata": {
        "colab": {
          "base_uri": "https://localhost:8080/"
        },
        "id": "yyp2VQB8qHS5",
        "outputId": "517d8e8f-6694-4942-8440-f5ba7d99259a"
      },
      "source": [
        "val_ds = tf.keras.preprocessing.image_dataset_from_directory(\n",
        "    train_path,\n",
        "    seed=123,\n",
        "    validation_split= 0.2,\n",
        "    subset= 'validation',\n",
        "    image_size=(image_h, image_w),\n",
        "    batch_size = batch_size)"
      ],
      "execution_count": null,
      "outputs": [
        {
          "output_type": "stream",
          "name": "stdout",
          "text": [
            "Found 1841 files belonging to 9 classes.\n",
            "Using 368 files for validation.\n"
          ]
        }
      ]
    },
    {
      "cell_type": "code",
      "metadata": {
        "colab": {
          "base_uri": "https://localhost:8080/"
        },
        "id": "CTU3E4PLO5Lq",
        "outputId": "f998d59d-9c6d-4335-947e-7ac93f65654d"
      },
      "source": [
        "test_ds = tf.keras.preprocessing.image_dataset_from_directory(\n",
        "    test_path,\n",
        "    seed=123,\n",
        "    image_size=(image_h, image_w),\n",
        "    batch_size = batch_size)"
      ],
      "execution_count": null,
      "outputs": [
        {
          "output_type": "stream",
          "name": "stdout",
          "text": [
            "Found 106 files belonging to 10 classes.\n"
          ]
        }
      ]
    },
    {
      "cell_type": "code",
      "metadata": {
        "colab": {
          "base_uri": "https://localhost:8080/"
        },
        "id": "xNb5cS5WpR_w",
        "outputId": "0b78ef2f-c845-4014-d4e5-48fc58938bde"
      },
      "source": [
        "image_path = \"/content/drive/MyDrive/Deep Learning Projects 43 - Skin Cancer Recognizer using DL/Data/Test/actinic keratosis/ISIC_0010512.jpg\"\n",
        "image = PIL.Image.open(image_path)\n",
        "image.size"
      ],
      "execution_count": null,
      "outputs": [
        {
          "output_type": "execute_result",
          "data": {
            "text/plain": [
              "(1024, 768)"
            ]
          },
          "metadata": {},
          "execution_count": 8
        }
      ]
    },
    {
      "cell_type": "code",
      "metadata": {
        "colab": {
          "base_uri": "https://localhost:8080/"
        },
        "id": "pUR2YriMq1Ip",
        "outputId": "ca17fbe8-3420-4647-f027-a748e4cdba6e"
      },
      "source": [
        "c_names = train_ds.class_names\n",
        "print(c_names)"
      ],
      "execution_count": null,
      "outputs": [
        {
          "output_type": "stream",
          "name": "stdout",
          "text": [
            "['actinic keratosis', 'basal cell carcinoma', 'dermatofibroma', 'melanoma', 'nevus', 'pigmented benign keratosis', 'seborrheic keratosis', 'squamous cell carcinoma', 'vascular lesion']\n"
          ]
        }
      ]
    },
    {
      "cell_type": "code",
      "metadata": {
        "colab": {
          "base_uri": "https://localhost:8080/",
          "height": 35
        },
        "id": "pDJIw6pWrGjW",
        "outputId": "f3628a96-63c4-4253-ddb1-316e60384f7d"
      },
      "source": [
        "''' plotting some images '''\n",
        "# for i in range(9): \n",
        "#     plt.figure(figsize=(10,10))\n",
        "#     plt.subplot(3, 3, i + 1)\n",
        "#     img = mpimg.imread(str(list(train_ds.glob(c_names[i]+'/*.jpg'))[1]))\n",
        "#     plt.title(c_names[i])\n",
        "#     plt.imshow(image)"
      ],
      "execution_count": null,
      "outputs": [
        {
          "output_type": "execute_result",
          "data": {
            "application/vnd.google.colaboratory.intrinsic+json": {
              "type": "string"
            },
            "text/plain": [
              "' plotting some images '"
            ]
          },
          "metadata": {},
          "execution_count": 10
        }
      ]
    },
    {
      "cell_type": "code",
      "metadata": {
        "id": "l_pE-PNcLZDG"
      },
      "source": [
        "''' AUTOTUNE '''\n",
        "AUTOTUNE = tf.data.experimental.AUTOTUNE\n",
        "train_ds = train_ds.cache().shuffle(1000).prefetch(buffer_size=AUTOTUNE)\n",
        "val_ds = val_ds.cache().prefetch(buffer_size=AUTOTUNE)"
      ],
      "execution_count": null,
      "outputs": []
    },
    {
      "cell_type": "code",
      "metadata": {
        "id": "-Irx75terg49"
      },
      "source": [
        "''' preprocessing layer '''\n",
        "model = Sequential([layers.experimental.preprocessing.Rescaling(1./255, input_shape=(image_h, image_w, 3))])\n",
        "\n",
        "''' Convolutional Layers '''\n",
        "model.add(Conv2D(filters=32, kernel_size=(5,5), padding='Same', activation ='relu', input_shape = (100, 100, 32)))\n",
        "model.add(MaxPool2D(pool_size=(2,2)))\n",
        "\n",
        "model.add(Conv2D(filters=32, kernel_size=(5,5), padding='Same', activation ='relu'))\n",
        "model.add(MaxPool2D(pool_size=(2,2)))\n",
        "\n",
        "model.add(Conv2D(filters=32, kernel_size=(5,5), padding='Same', activation ='relu'))\n",
        "model.add(MaxPool2D(pool_size=(2,2)))\n",
        "\n",
        "model.add(Conv2D(filters=32, kernel_size=(5,5), padding='Same', activation ='relu'))\n",
        "model.add(MaxPool2D(pool_size=(2,2)))\n",
        "\n",
        "''' adding dropout '''\n",
        "model.add(Dropout(0.75))\n",
        "model.add(Flatten())\n",
        "\n",
        "# model.add(Dense(556, activation='relu'))\n",
        "# model.add(Dense(128, activation='relu'))\n",
        "# model.add(Dense(64, activation='relu'))\n",
        "\n",
        "''' Classification Layer'''\n",
        "model.add(Dense(9, activation = \"softmax\"))"
      ],
      "execution_count": null,
      "outputs": []
    },
    {
      "cell_type": "code",
      "metadata": {
        "id": "yQ1ajwZCsvKa"
      },
      "source": [
        "''' Compile the model '''\n",
        "model.compile(optimizer='adam', loss=\"SparseCategoricalCrossentropy\",\n",
        "              metrics=['accuracy'])"
      ],
      "execution_count": null,
      "outputs": []
    },
    {
      "cell_type": "code",
      "metadata": {
        "colab": {
          "base_uri": "https://localhost:8080/"
        },
        "id": "7mWxw8_DshK-",
        "outputId": "3f48bbcc-5a91-48e6-dda1-664207a57fa7"
      },
      "source": [
        "model.summary()"
      ],
      "execution_count": null,
      "outputs": [
        {
          "output_type": "stream",
          "name": "stdout",
          "text": [
            "Model: \"sequential\"\n",
            "_________________________________________________________________\n",
            "Layer (type)                 Output Shape              Param #   \n",
            "=================================================================\n",
            "rescaling (Rescaling)        (None, 100, 100, 3)       0         \n",
            "_________________________________________________________________\n",
            "conv2d (Conv2D)              (None, 100, 100, 32)      2432      \n",
            "_________________________________________________________________\n",
            "max_pooling2d (MaxPooling2D) (None, 50, 50, 32)        0         \n",
            "_________________________________________________________________\n",
            "conv2d_1 (Conv2D)            (None, 50, 50, 32)        25632     \n",
            "_________________________________________________________________\n",
            "max_pooling2d_1 (MaxPooling2 (None, 25, 25, 32)        0         \n",
            "_________________________________________________________________\n",
            "conv2d_2 (Conv2D)            (None, 25, 25, 32)        25632     \n",
            "_________________________________________________________________\n",
            "max_pooling2d_2 (MaxPooling2 (None, 12, 12, 32)        0         \n",
            "_________________________________________________________________\n",
            "conv2d_3 (Conv2D)            (None, 12, 12, 32)        25632     \n",
            "_________________________________________________________________\n",
            "max_pooling2d_3 (MaxPooling2 (None, 6, 6, 32)          0         \n",
            "_________________________________________________________________\n",
            "dropout (Dropout)            (None, 6, 6, 32)          0         \n",
            "_________________________________________________________________\n",
            "flatten (Flatten)            (None, 1152)              0         \n",
            "_________________________________________________________________\n",
            "dense (Dense)                (None, 9)                 10377     \n",
            "=================================================================\n",
            "Total params: 89,705\n",
            "Trainable params: 89,705\n",
            "Non-trainable params: 0\n",
            "_________________________________________________________________\n"
          ]
        }
      ]
    },
    {
      "cell_type": "code",
      "metadata": {
        "id": "qcd76Fa-sres",
        "colab": {
          "base_uri": "https://localhost:8080/"
        },
        "outputId": "4fa4bfd3-43cb-4678-e672-97cd2921d7da"
      },
      "source": [
        "history = model.fit(train_ds, validation_data=val_ds, epochs=50)"
      ],
      "execution_count": null,
      "outputs": [
        {
          "output_type": "stream",
          "name": "stdout",
          "text": [
            "Epoch 1/50\n",
            "47/47 [==============================] - 15s 83ms/step - loss: 2.0845 - accuracy: 0.1840 - val_loss: 1.9855 - val_accuracy: 0.2120\n",
            "Epoch 2/50\n",
            "47/47 [==============================] - 1s 22ms/step - loss: 2.0493 - accuracy: 0.2030 - val_loss: 1.9904 - val_accuracy: 0.2283\n",
            "Epoch 3/50\n",
            "47/47 [==============================] - 1s 22ms/step - loss: 2.0283 - accuracy: 0.2335 - val_loss: 1.9295 - val_accuracy: 0.3179\n",
            "Epoch 4/50\n",
            "47/47 [==============================] - 1s 22ms/step - loss: 1.9611 - accuracy: 0.2960 - val_loss: 2.0246 - val_accuracy: 0.2228\n",
            "Epoch 5/50\n",
            "47/47 [==============================] - 1s 22ms/step - loss: 1.9432 - accuracy: 0.2845 - val_loss: 1.7173 - val_accuracy: 0.4130\n",
            "Epoch 6/50\n",
            "47/47 [==============================] - 1s 22ms/step - loss: 1.9692 - accuracy: 0.2831 - val_loss: 1.8535 - val_accuracy: 0.3261\n",
            "Epoch 7/50\n",
            "47/47 [==============================] - 1s 22ms/step - loss: 1.9309 - accuracy: 0.3198 - val_loss: 2.0507 - val_accuracy: 0.2065\n",
            "Epoch 8/50\n",
            "47/47 [==============================] - 1s 21ms/step - loss: 1.9925 - accuracy: 0.2492 - val_loss: 1.8185 - val_accuracy: 0.3478\n",
            "Epoch 9/50\n",
            "47/47 [==============================] - 1s 22ms/step - loss: 1.8306 - accuracy: 0.3571 - val_loss: 1.6819 - val_accuracy: 0.3967\n",
            "Epoch 10/50\n",
            "47/47 [==============================] - 1s 22ms/step - loss: 1.7651 - accuracy: 0.3842 - val_loss: 1.6323 - val_accuracy: 0.4185\n",
            "Epoch 11/50\n",
            "47/47 [==============================] - 1s 22ms/step - loss: 1.7068 - accuracy: 0.3876 - val_loss: 2.3306 - val_accuracy: 0.2826\n",
            "Epoch 12/50\n",
            "47/47 [==============================] - 1s 22ms/step - loss: 1.8668 - accuracy: 0.3286 - val_loss: 1.6754 - val_accuracy: 0.4266\n",
            "Epoch 13/50\n",
            "47/47 [==============================] - 1s 22ms/step - loss: 1.6735 - accuracy: 0.4094 - val_loss: 1.6118 - val_accuracy: 0.4592\n",
            "Epoch 14/50\n",
            "47/47 [==============================] - 1s 22ms/step - loss: 1.6492 - accuracy: 0.4094 - val_loss: 1.5877 - val_accuracy: 0.4457\n",
            "Epoch 15/50\n",
            "47/47 [==============================] - 1s 22ms/step - loss: 1.6596 - accuracy: 0.4107 - val_loss: 1.6037 - val_accuracy: 0.4375\n",
            "Epoch 16/50\n",
            "47/47 [==============================] - 1s 22ms/step - loss: 2.0550 - accuracy: 0.2356 - val_loss: 1.9837 - val_accuracy: 0.2310\n",
            "Epoch 17/50\n",
            "47/47 [==============================] - 1s 21ms/step - loss: 2.0193 - accuracy: 0.2356 - val_loss: 2.1097 - val_accuracy: 0.2609\n",
            "Epoch 18/50\n",
            "47/47 [==============================] - 1s 23ms/step - loss: 1.9745 - accuracy: 0.3041 - val_loss: 1.7105 - val_accuracy: 0.4158\n",
            "Epoch 19/50\n",
            "47/47 [==============================] - 1s 22ms/step - loss: 1.7772 - accuracy: 0.3788 - val_loss: 1.6301 - val_accuracy: 0.4538\n",
            "Epoch 20/50\n",
            "47/47 [==============================] - 1s 22ms/step - loss: 1.6883 - accuracy: 0.4162 - val_loss: 1.5868 - val_accuracy: 0.4728\n",
            "Epoch 21/50\n",
            "47/47 [==============================] - 1s 22ms/step - loss: 1.6592 - accuracy: 0.4175 - val_loss: 1.5861 - val_accuracy: 0.4755\n",
            "Epoch 22/50\n",
            "47/47 [==============================] - 1s 21ms/step - loss: 1.7797 - accuracy: 0.3883 - val_loss: 1.9777 - val_accuracy: 0.2745\n",
            "Epoch 23/50\n",
            "47/47 [==============================] - 1s 22ms/step - loss: 1.8943 - accuracy: 0.2974 - val_loss: 1.8105 - val_accuracy: 0.4239\n",
            "Epoch 24/50\n",
            "47/47 [==============================] - 1s 22ms/step - loss: 1.6175 - accuracy: 0.4433 - val_loss: 1.5561 - val_accuracy: 0.4973\n",
            "Epoch 25/50\n",
            "47/47 [==============================] - 1s 22ms/step - loss: 1.5548 - accuracy: 0.4603 - val_loss: 1.5084 - val_accuracy: 0.5326\n",
            "Epoch 26/50\n",
            "47/47 [==============================] - 1s 22ms/step - loss: 1.5015 - accuracy: 0.4745 - val_loss: 1.4529 - val_accuracy: 0.5163\n",
            "Epoch 27/50\n",
            "47/47 [==============================] - 1s 22ms/step - loss: 1.4889 - accuracy: 0.4874 - val_loss: 1.5040 - val_accuracy: 0.5109\n",
            "Epoch 28/50\n",
            "47/47 [==============================] - 1s 22ms/step - loss: 1.7901 - accuracy: 0.3931 - val_loss: 1.5365 - val_accuracy: 0.4837\n",
            "Epoch 29/50\n",
            "47/47 [==============================] - 1s 22ms/step - loss: 1.4875 - accuracy: 0.4854 - val_loss: 1.4391 - val_accuracy: 0.5326\n",
            "Epoch 30/50\n",
            "47/47 [==============================] - 1s 22ms/step - loss: 1.4864 - accuracy: 0.4745 - val_loss: 1.4182 - val_accuracy: 0.5245\n",
            "Epoch 31/50\n",
            "47/47 [==============================] - 1s 22ms/step - loss: 1.4629 - accuracy: 0.4745 - val_loss: 1.4403 - val_accuracy: 0.5245\n",
            "Epoch 32/50\n",
            "47/47 [==============================] - 1s 22ms/step - loss: 1.4767 - accuracy: 0.4732 - val_loss: 1.4391 - val_accuracy: 0.5217\n",
            "Epoch 33/50\n",
            "47/47 [==============================] - 1s 22ms/step - loss: 1.4856 - accuracy: 0.4820 - val_loss: 1.4872 - val_accuracy: 0.5163\n",
            "Epoch 34/50\n",
            "47/47 [==============================] - 1s 22ms/step - loss: 1.4736 - accuracy: 0.4868 - val_loss: 1.4675 - val_accuracy: 0.5380\n",
            "Epoch 35/50\n",
            "47/47 [==============================] - 1s 22ms/step - loss: 1.4393 - accuracy: 0.4874 - val_loss: 1.3819 - val_accuracy: 0.5489\n",
            "Epoch 36/50\n",
            "47/47 [==============================] - 1s 22ms/step - loss: 1.4576 - accuracy: 0.4929 - val_loss: 1.3805 - val_accuracy: 0.5435\n",
            "Epoch 37/50\n",
            "47/47 [==============================] - 1s 22ms/step - loss: 1.4251 - accuracy: 0.5003 - val_loss: 1.3947 - val_accuracy: 0.5598\n",
            "Epoch 38/50\n",
            "47/47 [==============================] - 1s 22ms/step - loss: 1.4206 - accuracy: 0.4908 - val_loss: 1.3693 - val_accuracy: 0.5462\n",
            "Epoch 39/50\n",
            "47/47 [==============================] - 1s 22ms/step - loss: 1.3689 - accuracy: 0.5207 - val_loss: 1.3579 - val_accuracy: 0.5462\n",
            "Epoch 40/50\n",
            "47/47 [==============================] - 1s 22ms/step - loss: 1.3833 - accuracy: 0.5166 - val_loss: 1.3785 - val_accuracy: 0.5408\n",
            "Epoch 41/50\n",
            "47/47 [==============================] - 1s 21ms/step - loss: 1.3669 - accuracy: 0.5139 - val_loss: 1.3317 - val_accuracy: 0.5652\n",
            "Epoch 42/50\n",
            "47/47 [==============================] - 1s 22ms/step - loss: 1.4478 - accuracy: 0.5051 - val_loss: 1.3695 - val_accuracy: 0.5679\n",
            "Epoch 43/50\n",
            "47/47 [==============================] - 1s 22ms/step - loss: 1.3665 - accuracy: 0.5173 - val_loss: 1.3983 - val_accuracy: 0.5326\n",
            "Epoch 44/50\n",
            "47/47 [==============================] - 1s 22ms/step - loss: 1.3579 - accuracy: 0.5092 - val_loss: 1.4126 - val_accuracy: 0.5543\n",
            "Epoch 45/50\n",
            "47/47 [==============================] - 1s 22ms/step - loss: 1.4018 - accuracy: 0.5058 - val_loss: 1.3342 - val_accuracy: 0.5598\n",
            "Epoch 46/50\n",
            "47/47 [==============================] - 1s 21ms/step - loss: 1.3497 - accuracy: 0.5166 - val_loss: 1.3010 - val_accuracy: 0.5489\n",
            "Epoch 47/50\n",
            "47/47 [==============================] - 1s 22ms/step - loss: 1.3194 - accuracy: 0.5241 - val_loss: 1.3125 - val_accuracy: 0.5489\n",
            "Epoch 48/50\n",
            "47/47 [==============================] - 1s 22ms/step - loss: 1.2883 - accuracy: 0.5465 - val_loss: 1.3005 - val_accuracy: 0.5734\n",
            "Epoch 49/50\n",
            "47/47 [==============================] - 1s 22ms/step - loss: 1.2960 - accuracy: 0.5275 - val_loss: 1.3104 - val_accuracy: 0.5679\n",
            "Epoch 50/50\n",
            "47/47 [==============================] - 1s 22ms/step - loss: 1.3189 - accuracy: 0.5187 - val_loss: 1.3131 - val_accuracy: 0.5625\n"
          ]
        }
      ]
    },
    {
      "cell_type": "code",
      "metadata": {
        "colab": {
          "base_uri": "https://localhost:8080/",
          "height": 499
        },
        "id": "qd8dRSb3xGUP",
        "outputId": "522dc7f1-fcca-40df-f923-f648acba147d"
      },
      "source": [
        "''' plotting training accuracy and validation accuracy graph '''\n",
        "epochs_range = range(50)\n",
        "plt.figure(figsize=(8, 8))\n",
        "plt.subplot(1, 2, 1)\n",
        "plt.plot(epochs_range, history.history['accuracy'], label='Training Accuracy')\n",
        "plt.plot(epochs_range, history.history['val_accuracy'], label='Validation Accuracy')\n",
        "plt.legend(loc='lower right')\n",
        "plt.title('Training and Validation Accuracy')\n",
        "\n",
        "''' plotting training loss and validation loss graph '''\n",
        "plt.subplot(1, 2, 2)\n",
        "plt.plot(epochs_range, history.history['loss'], label='Training Loss')\n",
        "plt.plot(epochs_range, history.history['val_loss'], label='Validation Loss')\n",
        "plt.legend(loc='upper right')\n",
        "plt.title('Training and Validation Loss')\n",
        "plt.show()"
      ],
      "execution_count": null,
      "outputs": [
        {
          "output_type": "display_data",
          "data": {
            "image/png": "[encoded data removed]",
            "text/plain": [
              "<Figure size 576x576 with 2 Axes>"
            ]
          },
          "metadata": {
            "needs_background": "light"
          }
        }
      ]
    },
    {
      "cell_type": "code",
      "metadata": {
        "colab": {
          "base_uri": "https://localhost:8080/"
        },
        "id": "qugSFSc7QVFW",
        "outputId": "264979f9-03d0-4496-d6c5-c6ca0f011329"
      },
      "source": [
        "test_label = test_ds.class_names\n",
        "test_label"
      ],
      "execution_count": null,
      "outputs": [
        {
          "output_type": "execute_result",
          "data": {
            "text/plain": [
              "['.ipynb_checkpoints',\n",
              " 'actinic keratosis',\n",
              " 'basal cell carcinoma',\n",
              " 'dermatofibroma',\n",
              " 'melanoma',\n",
              " 'nevus',\n",
              " 'pigmented benign keratosis',\n",
              " 'seborrheic keratosis',\n",
              " 'squamous cell carcinoma',\n",
              " 'vascular lesion']"
            ]
          },
          "metadata": {},
          "execution_count": 17
        }
      ]
    },
    {
      "cell_type": "code",
      "metadata": {
        "colab": {
          "base_uri": "https://localhost:8080/",
          "height": 117
        },
        "id": "IVkw5Wiv5LAX",
        "outputId": "b998d2a1-cc91-4b17-b778-27440d554a8e"
      },
      "source": [
        "# from tensorflow.keras.preprocessing.image import load_img\n",
        "image_path = \"/content/drive/MyDrive/Deep Learning Projects 43 - Skin Cancer Recognizer using DL/Data/Train/basal cell carcinoma/ISIC_0024504.jpg\"\n",
        "image = preprocessing.image.load_img(image_path, target_size=(100, 100))\n",
        "image_array = preprocessing.image.img_to_array(image)\n",
        "scaled_img = np.expand_dims(image_array, axis=0)\n",
        "image"
      ],
      "execution_count": null,
      "outputs": [
        {
          "output_type": "execute_result",
          "data": {
            "image/png": "[encoded data removed]",
            "text/plain": [
              "<PIL.Image.Image image mode=RGB size=100x100 at 0x7F191B722450>"
            ]
          },
          "metadata": {},
          "execution_count": 18
        }
      ]
    },
    {
      "cell_type": "code",
      "metadata": {
        "colab": {
          "base_uri": "https://localhost:8080/",
          "height": 35
        },
        "id": "QGzvNpzT9XXe",
        "outputId": "d9572561-a1b6-47f2-cc06-042edd1997a4"
      },
      "source": [
        "prediction = model.predict(scaled_img)\n",
        "pred_label = c_names[np.argmax(prediction)]\n",
        "pred_label"
      ],
      "execution_count": null,
      "outputs": [
        {
          "output_type": "execute_result",
          "data": {
            "application/vnd.google.colaboratory.intrinsic+json": {
              "type": "string"
            },
            "text/plain": [
              "'basal cell carcinoma'"
            ]
          },
          "metadata": {},
          "execution_count": 20
        }
      ]
    },
    {
      "cell_type": "code",
      "metadata": {
        "colab": {
          "base_uri": "https://localhost:8080/"
        },
        "id": "A7CCX4oM8LHP",
        "outputId": "db4166fc-69d4-4237-f3c9-bd06610e1d7b"
      },
      "source": [
        "model.evaluate(test_ds)"
      ],
      "execution_count": null,
      "outputs": [
        {
          "output_type": "stream",
          "name": "stdout",
          "text": [
            "4/4 [==============================] - 2s 11ms/step - loss: nan - accuracy: 0.1981\n"
          ]
        },
        {
          "output_type": "execute_result",
          "data": {
            "text/plain": [
              "[nan, 0.19811320304870605]"
            ]
          },
          "metadata": {},
          "execution_count": 22
        }
      ]
    },
    {
      "cell_type": "code",
      "metadata": {
        "id": "SqE4AW7r_APS"
      },
      "source": [
        ""
      ],
      "execution_count": null,
      "outputs": []
    }
  ]
}